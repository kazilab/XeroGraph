{
 "cells": [
  {
   "cell_type": "markdown",
   "id": "db98b6b8",
   "metadata": {},
   "source": [
    "# Getting Started\n",
    "## Quick Example"
   ]
  },
  {
   "cell_type": "markdown",
   "id": "22a13898-4317-45bb-bb3e-9013a72be125",
   "metadata": {},
   "source": [
    "### Install XeroGraph"
   ]
  },
  {
   "cell_type": "code",
   "execution_count": null,
   "id": "a3abd465-82fa-4b09-adcd-0aea4039e4ee",
   "metadata": {},
   "outputs": [],
   "source": [
    "pip install XeroGraph"
   ]
  },
  {
   "cell_type": "markdown",
   "id": "1296bfed",
   "metadata": {},
   "source": [
    "### Imports"
   ]
  },
  {
   "cell_type": "code",
   "execution_count": null,
   "id": "e7574cd8",
   "metadata": {},
   "outputs": [],
   "source": [
    "# We use XeroAnalyzer application provided in XeroGraph.\n",
    "# XeroAnalyzer can be imported as XA, xa, xeroanalyzer, xero_analyzer or XeroAnalyzer\n",
    "\n",
    "from XeroGraph import xa\n",
    "import pandas as pd"
   ]
  },
  {
   "cell_type": "markdown",
   "id": "d5b112a8",
   "metadata": {},
   "source": [
    "### Use your data"
   ]
  },
  {
   "cell_type": "code",
   "execution_count": null,
   "id": "699e22d0",
   "metadata": {},
   "outputs": [],
   "source": [
    "data = pd.read_csv('df.csv', index_col=0)\n",
    "print(data.shape)"
   ]
  },
  {
   "cell_type": "markdown",
   "id": "d090cfc3",
   "metadata": {},
   "source": [
    "### Example dataset"
   ]
  },
  {
   "cell_type": "code",
   "execution_count": null,
   "id": "a359f034",
   "metadata": {},
   "outputs": [],
   "source": [
    "data = pd.DataFrame({\n",
    "    'feature1': [1, 2, 3, 4, 5, 6, 7, 8, 9, 3, 4, None, 6, 4, 5, 1, 2, 3, 4, 5, 6, 7, 8, 9, 3, 4, 1, 6, 4, 5],\n",
    "    'feature2': [4, 6, 2, 4, 5, 6, 7, 8, 9, 2, 4, 3, 2, 2, 6, 4, 6, 2, 4, 5, 6, 7, 8, 9, 2, 4, 3, 2, 2, 6],\n",
    "    'feature3': [1, 2, 4, 3, 6, 2, 6, 6, None, 1, 5, 0, 3, 2, 1, 1, 2, 4, 3, None, 2, 6, 6, 1, 1, 5, 0, 3, 2, 1],\n",
    "    'feature4': [4, 3, 1, 2, 4, 5, 6, 7, 8, 9, 2, None, 3, 2, 1, 4, 3, 1, 2, 4, 5, 6, 7, 8, 9, 2, 1, 3, 2, 1],\n",
    "    'feature5': [4, 3, 4, 2, None, 6, 2, 4, 5, 6, 7, 8, 9, 2, 4, 4, 3, 4, 2, 1, 6, 2, 4, 5, None, 7, 8, 9, 2, 4]\n",
    "    \n",
    "})\n",
    "print(data.shape)"
   ]
  },
  {
   "cell_type": "markdown",
   "id": "0af37921",
   "metadata": {},
   "source": [
    "### Initialize the XeroGraph analyzer"
   ]
  },
  {
   "cell_type": "code",
   "execution_count": null,
   "id": "5d20e17b",
   "metadata": {},
   "outputs": [],
   "source": [
    "# Optional arguments:\n",
    "# To save plot: save_plot=True, save_path='save path'\n",
    "\n",
    "xg_test = xa(data, save_files=False, save_path=\"\") "
   ]
  },
  {
   "cell_type": "markdown",
   "id": "58993a5d",
   "metadata": {},
   "source": [
    "### Perform normality test for each features"
   ]
  },
  {
   "cell_type": "code",
   "execution_count": null,
   "id": "6b9437c1",
   "metadata": {},
   "outputs": [],
   "source": [
    "xg_test.normality()"
   ]
  },
  {
   "cell_type": "markdown",
   "id": "afa21c8d",
   "metadata": {},
   "source": [
    "### Perform Kolmogorov-Smirnov test for each features"
   ]
  },
  {
   "cell_type": "code",
   "execution_count": null,
   "id": "0851a3fc",
   "metadata": {},
   "outputs": [],
   "source": [
    "xg_test.ks()"
   ]
  },
  {
   "cell_type": "markdown",
   "id": "3d5b3b5b",
   "metadata": {},
   "source": [
    "### Visualize histograms for each features"
   ]
  },
  {
   "cell_type": "code",
   "execution_count": null,
   "id": "22ccb545",
   "metadata": {},
   "outputs": [],
   "source": [
    "xg_test.histograms()"
   ]
  },
  {
   "cell_type": "markdown",
   "id": "e1c16db1",
   "metadata": {},
   "source": [
    "### Visualize density plots for each features"
   ]
  },
  {
   "cell_type": "code",
   "execution_count": null,
   "id": "0641ed5b",
   "metadata": {},
   "outputs": [],
   "source": [
    "xg_test.density_plots()"
   ]
  },
  {
   "cell_type": "markdown",
   "id": "a0d4500d",
   "metadata": {},
   "source": [
    "### Visualize box plots for each features"
   ]
  },
  {
   "cell_type": "code",
   "execution_count": null,
   "id": "1a265657",
   "metadata": {},
   "outputs": [],
   "source": [
    "xg_test.box_plots()"
   ]
  },
  {
   "cell_type": "markdown",
   "id": "63ad4fef",
   "metadata": {},
   "source": [
    "### Visualize Q-Q plots for each features"
   ]
  },
  {
   "cell_type": "code",
   "execution_count": null,
   "id": "01c760ea",
   "metadata": {},
   "outputs": [],
   "source": [
    "xg_test.qq_plots()"
   ]
  },
  {
   "cell_type": "markdown",
   "id": "2fe24059",
   "metadata": {},
   "source": [
    "### Visualize missing data patterns"
   ]
  },
  {
   "cell_type": "code",
   "execution_count": null,
   "id": "d01404d6",
   "metadata": {},
   "outputs": [],
   "source": [
    "xg_test.missing_data()"
   ]
  },
  {
   "cell_type": "markdown",
   "id": "40f01fda",
   "metadata": {},
   "source": [
    "### Visualize missing percentages for both features and samples"
   ]
  },
  {
   "cell_type": "code",
   "execution_count": null,
   "id": "3c34e6c4",
   "metadata": {},
   "outputs": [],
   "source": [
    "xg_test.missing_percentage()"
   ]
  },
  {
   "cell_type": "markdown",
   "id": "e84d403e",
   "metadata": {},
   "source": [
    "### Perform Little's MCAR test"
   ]
  },
  {
   "cell_type": "code",
   "execution_count": null,
   "id": "05afb37a",
   "metadata": {},
   "outputs": [],
   "source": [
    "mcar_result = xg_test.mcar()\n",
    "print(f\"MCAR Test Result: {mcar_result}\")"
   ]
  },
  {
   "cell_type": "markdown",
   "id": "d6a91445",
   "metadata": {},
   "source": [
    "# Imputation continuous data"
   ]
  },
  {
   "cell_type": "markdown",
   "id": "71e984fd",
   "metadata": {},
   "source": [
    "### Mean Imputation"
   ]
  },
  {
   "cell_type": "code",
   "execution_count": null,
   "id": "e16a2ca9",
   "metadata": {},
   "outputs": [],
   "source": [
    "imp_data_mean = xg_test.mean_imputation()"
   ]
  },
  {
   "cell_type": "markdown",
   "id": "2a1049ba",
   "metadata": {},
   "source": [
    "### Median Imputation"
   ]
  },
  {
   "cell_type": "code",
   "execution_count": null,
   "id": "8b201ece",
   "metadata": {},
   "outputs": [],
   "source": [
    "imp_data_median = xg_test.median_imputation()"
   ]
  },
  {
   "cell_type": "markdown",
   "id": "fc40426b",
   "metadata": {},
   "source": [
    "### Most Frequent"
   ]
  },
  {
   "cell_type": "code",
   "execution_count": null,
   "id": "3969c14e",
   "metadata": {},
   "outputs": [],
   "source": [
    "imp_data_most_frequent = xg_test.most_frequent_imputation()"
   ]
  },
  {
   "cell_type": "markdown",
   "id": "21809280",
   "metadata": {},
   "source": [
    "### KNN imputation"
   ]
  },
  {
   "cell_type": "code",
   "execution_count": null,
   "id": "a318650c",
   "metadata": {},
   "outputs": [],
   "source": [
    "imp_data_knn = xg_test.knn_imputation()"
   ]
  },
  {
   "cell_type": "markdown",
   "id": "a22b5b9e",
   "metadata": {},
   "source": [
    "### Iterative Imputation"
   ]
  },
  {
   "cell_type": "code",
   "execution_count": null,
   "id": "cb15d8e4",
   "metadata": {},
   "outputs": [],
   "source": [
    "imp_data_ii = xg_test.iterative_imputation(plot_convergence=False) # Optional: plot_convergence=True"
   ]
  },
  {
   "cell_type": "markdown",
   "id": "e9770ef8",
   "metadata": {},
   "source": [
    "### Imputation by Random Forest"
   ]
  },
  {
   "cell_type": "code",
   "execution_count": null,
   "id": "58aa4b76",
   "metadata": {},
   "outputs": [],
   "source": [
    "imp_data_rf = xg_test.random_forest_imputation()"
   ]
  },
  {
   "cell_type": "markdown",
   "id": "4e61351d",
   "metadata": {},
   "source": [
    "### Imputation by LASSO CV"
   ]
  },
  {
   "cell_type": "code",
   "execution_count": null,
   "id": "8d305810",
   "metadata": {},
   "outputs": [],
   "source": [
    "imp_data_lc = xg_test.lasso_cv_imputation()"
   ]
  },
  {
   "cell_type": "markdown",
   "id": "24068414",
   "metadata": {},
   "source": [
    "### Imputation by XGBoost"
   ]
  },
  {
   "cell_type": "code",
   "execution_count": null,
   "id": "682eaa4e",
   "metadata": {},
   "outputs": [],
   "source": [
    "imp_data_xb = xg_test.xgboost_imputation()"
   ]
  },
  {
   "cell_type": "markdown",
   "id": "0635c0ac",
   "metadata": {},
   "source": [
    "### Imputation by Xputer "
   ]
  },
  {
   "cell_type": "code",
   "execution_count": null,
   "id": "705c8e50",
   "metadata": {},
   "outputs": [],
   "source": [
    "imp_data_xp = xg_test.xputer_imputation()"
   ]
  },
  {
   "cell_type": "markdown",
   "id": "f7eff0a4",
   "metadata": {},
   "source": [
    "### Multiple Imputation by MICE"
   ]
  },
  {
   "cell_type": "code",
   "execution_count": null,
   "id": "e2b6a6f5",
   "metadata": {},
   "outputs": [],
   "source": [
    "imp_data_mice = xg_test.mice_imp()"
   ]
  },
  {
   "cell_type": "markdown",
   "id": "7135a24f",
   "metadata": {},
   "source": [
    "# Check after imputation"
   ]
  },
  {
   "cell_type": "markdown",
   "id": "fd5e0d77",
   "metadata": {},
   "source": [
    "### Check Plausibility"
   ]
  },
  {
   "cell_type": "code",
   "execution_count": null,
   "id": "56f16198",
   "metadata": {},
   "outputs": [],
   "source": [
    "xg_test.check_plausibility(imp_data_xp)"
   ]
  },
  {
   "cell_type": "markdown",
   "id": "63d56aef",
   "metadata": {},
   "source": [
    "### Compare with T-test and plot"
   ]
  },
  {
   "cell_type": "code",
   "execution_count": null,
   "id": "cbe5240b",
   "metadata": {},
   "outputs": [],
   "source": [
    "xg_test.compare_with_ttest_and_plot(imp_data_xp)"
   ]
  },
  {
   "cell_type": "markdown",
   "id": "bee59c3e-695c-4b70-8323-5be17c2e4436",
   "metadata": {},
   "source": [
    "### Visualize feature combinations plots for each features"
   ]
  },
  {
   "cell_type": "code",
   "execution_count": null,
   "id": "7b1fbbd8-cd17-45ab-8fa6-5feb3aed6acb",
   "metadata": {},
   "outputs": [],
   "source": [
    "xg_test.feature_combinations()"
   ]
  },
  {
   "cell_type": "markdown",
   "id": "b284b74d",
   "metadata": {},
   "source": [
    "## Perform a test to check which imputation method fits for your data"
   ]
  },
  {
   "cell_type": "code",
   "execution_count": null,
   "id": "c5c0f548",
   "metadata": {},
   "outputs": [],
   "source": [
    "from XeroGraph import xc\n",
    "compare_imp = xc(data)\n",
    "# MICE imputation is a slow process, if you want to include pass \"mice=True\".\n",
    "summary = compare_imp.compare(run_mice=False)\n",
    "print(summary) "
   ]
  }
 ],
 "metadata": {
  "kernelspec": {
   "display_name": "Python 3 (ipykernel)",
   "language": "python",
   "name": "python3"
  },
  "language_info": {
   "codemirror_mode": {
    "name": "ipython",
    "version": 3
   },
   "file_extension": ".py",
   "mimetype": "text/x-python",
   "name": "python",
   "nbconvert_exporter": "python",
   "pygments_lexer": "ipython3",
   "version": "3.11.9"
  }
 },
 "nbformat": 4,
 "nbformat_minor": 5
}
